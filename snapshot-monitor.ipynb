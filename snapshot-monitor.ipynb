{
 "cells": [
  {
   "cell_type": "markdown",
   "metadata": {
    "application/vnd.databricks.v1+cell": {
     "cellMetadata": {},
     "inputWidgets": {},
     "nuid": "4392049d-bdc5-4211-8f11-c101741a60a1",
     "showTitle": false,
     "title": ""
    }
   },
   "source": [
    "# Lakehouse monitoring example notebook: Snapshot analysis\n",
    "\n",
    "**User requirements**\n",
    "- You must have access to run commands on a cluster with access to Unity Catalog.\n",
    "- You must have `USE CATALOG` privilege on at least one catalog, and you must have `USE SCHEMA` privileges on at least one schema. This notebook creates tables in the `main.default` schema. If you do not have the required privileges on the `main.default` schema, you must edit the notebook to change the default catalog and schema to ones that you do have privileges on.\n",
    "\n",
    "**System requirements:**\n",
    "- Your workspace must be enabled for Unity Catalog.\n",
    "- Databricks Runtime 12.2LTS or above.\n",
    "- A Single user or Assigned cluster.\n",
    "\n",
    "This notebook illustrates how to create a snapshot profile, which calculates statistics over all data in the table each time the monitor is refreshed. If you want to calculate statistics separately for time windows within a table, use a TimeSeries monitor.\n",
    "\n",
    "For more information about Lakehouse monitoring, see the documentation ([AWS](https://docs.databricks.com/lakehouse-monitoring/index.html)|[Azure](https://learn.microsoft.com/azure/databricks/lakehouse-monitoring/index))."
   ]
  },
  {
   "cell_type": "markdown",
   "metadata": {
    "application/vnd.databricks.v1+cell": {
     "cellMetadata": {},
     "inputWidgets": {},
     "nuid": "ae2d96b2-93fa-4177-8856-f4b7f64d23d4",
     "showTitle": false,
     "title": ""
    }
   },
   "source": [
    "## Setup\n",
    "* Verify cluster configuration\n",
    "* Install the Python client\n",
    "* Define catalog, schema and table names\n"
   ]
  },
  {
   "cell_type": "code",
   "execution_count": 0,
   "metadata": {
    "application/vnd.databricks.v1+cell": {
     "cellMetadata": {},
     "inputWidgets": {},
     "nuid": "97fd3c6e-4a4a-4152-8866-08466eed6a25",
     "showTitle": false,
     "title": ""
    }
   },
   "outputs": [],
   "source": [
    "# Check the cluster configuration. If this cell fails, use the cluster selector at the top right of the notebook to select or configure a cluster running Databricks Runtime 12.2 LTS or above.\n",
    "import os\n",
    "\n",
    "assert float(os.environ.get(\"DATABRICKS_RUNTIME_VERSION\", 0)) >= 12.2, \"Please configure your cluster to use Databricks Runtime 12.2 LTS or above.\""
   ]
  },
  {
   "cell_type": "code",
   "execution_count": 0,
   "metadata": {
    "application/vnd.databricks.v1+cell": {
     "cellMetadata": {},
     "inputWidgets": {},
     "nuid": "dd3007e7-ff8d-4659-a717-ebda4137369a",
     "showTitle": true,
     "title": "Install Lakehouse Monitoring client wheel"
    }
   },
   "outputs": [],
   "source": [
    "%pip install \"https://ml-team-public-read.s3.amazonaws.com/wheels/data-monitoring/a4050ef7-b183-47a1-a145-e614628e3146/databricks_lakehouse_monitoring-0.4.14-py3-none-any.whl\""
   ]
  },
  {
   "cell_type": "code",
   "execution_count": 0,
   "metadata": {
    "application/vnd.databricks.v1+cell": {
     "cellMetadata": {},
     "inputWidgets": {},
     "nuid": "656da6d0-1ca9-415e-a58f-ae041f4c272f",
     "showTitle": false,
     "title": ""
    }
   },
   "outputs": [],
   "source": [
    "# This step is necessary to reset the environment with our newly installed wheel.\n",
    "dbutils.library.restartPython()"
   ]
  },
  {
   "cell_type": "code",
   "execution_count": 0,
   "metadata": {
    "application/vnd.databricks.v1+cell": {
     "cellMetadata": {},
     "inputWidgets": {},
     "nuid": "806429c2-71ce-4666-927b-d4d4cb9c1f5c",
     "showTitle": true,
     "title": "Specify catalog and schema to use"
    }
   },
   "outputs": [],
   "source": [
    "# You must have `USE CATALOG` privileges on the catalog, and you must have `USE SCHEMA` privileges on the schema.\n",
    "# If necessary, change the catalog and schema name here.\n",
    "\n",
    "CATALOG = \"main\"\n",
    "SCHEMA = \"default\""
   ]
  },
  {
   "cell_type": "code",
   "execution_count": 0,
   "metadata": {
    "application/vnd.databricks.v1+cell": {
     "cellMetadata": {},
     "inputWidgets": {},
     "nuid": "55c0ccb9-8135-4573-a4fa-60108c8274c0",
     "showTitle": false,
     "title": ""
    }
   },
   "outputs": [],
   "source": [
    "username = spark.sql(\"SELECT current_user()\").first()[\"current_user()\"]\n",
    "username_prefixes = username.split(\"@\")[0].split(\".\")"
   ]
  },
  {
   "cell_type": "code",
   "execution_count": 0,
   "metadata": {
    "application/vnd.databricks.v1+cell": {
     "cellMetadata": {},
     "inputWidgets": {},
     "nuid": "43efc87e-ddf1-4f30-b0a2-2d498bd3e3d5",
     "showTitle": false,
     "title": ""
    }
   },
   "outputs": [],
   "source": [
    "unique_suffix = \"_\".join([username_prefixes[0], username_prefixes[1][0:2]])\n",
    "TABLE_NAME = f\"{CATALOG}.{SCHEMA}.wine_{unique_suffix}\"\n",
    "BASELINE_TABLE = f\"{CATALOG}.{SCHEMA}.wine_baseline_{unique_suffix}\""
   ]
  },
  {
   "cell_type": "code",
   "execution_count": 0,
   "metadata": {
    "application/vnd.databricks.v1+cell": {
     "cellMetadata": {},
     "inputWidgets": {},
     "nuid": "eac67014-7630-41c8-8c0f-dc4bedfda569",
     "showTitle": false,
     "title": ""
    }
   },
   "outputs": [],
   "source": [
    "spark.sql(f\"DROP TABLE IF EXISTS {TABLE_NAME}\")\n",
    "spark.sql(f\"DROP TABLE IF EXISTS {BASELINE_TABLE}\")"
   ]
  },
  {
   "cell_type": "markdown",
   "metadata": {
    "application/vnd.databricks.v1+cell": {
     "cellMetadata": {},
     "inputWidgets": {},
     "nuid": "75af672f-e62c-48c2-a1e3-087ca11b182a",
     "showTitle": false,
     "title": ""
    }
   },
   "source": [
    "## User Journey\n",
    "1. Create tables: Read raw data and create the primary table (the table to be monitored) and the baseline table (which contains data known to meet expected quality standards).\n",
    "2. Create a monitor on the primary table and refresh it to collect monitor data.\n",
    "3. Inspect the metrics tables.\n",
    "4. Apply changes to table and refresh metrics. Inspect the metrics tables.\n",
    "5. [Optional] Delete the monitor."
   ]
  },
  {
   "cell_type": "markdown",
   "metadata": {
    "application/vnd.databricks.v1+cell": {
     "cellMetadata": {},
     "inputWidgets": {},
     "nuid": "68b7683a-d43a-4796-ad2f-b0ee047643d1",
     "showTitle": false,
     "title": ""
    }
   },
   "source": [
    "### 1. Create the primary and (optional) baseline tables in Unity Catalog\n",
    "* The tables must be Delta tables registered in Unity Catalog and owned by the user running the notebook.  \n",
    "* The table to be monitored is also called the \"primary table\".  \n",
    "* The baseline table must have the same schema as the monitored table.\n",
    "\n",
    "This example uses the `winequality` datasets."
   ]
  },
  {
   "cell_type": "code",
   "execution_count": 0,
   "metadata": {
    "application/vnd.databricks.v1+cell": {
     "cellMetadata": {},
     "inputWidgets": {},
     "nuid": "d1030ce6-e71d-4b33-a0c1-4eaf25a246e2",
     "showTitle": false,
     "title": ""
    }
   },
   "outputs": [],
   "source": [
    "import pandas as pd\n",
    "\n",
    "\n",
    "white_wine = pd.read_csv(\"/dbfs/databricks-datasets/wine-quality/winequality-white.csv\", sep=\";\")\n",
    "red_wine = pd.read_csv(\"/dbfs/databricks-datasets/wine-quality/winequality-red.csv\", sep=\";\")\n",
    "\n",
    "# Add categorical\n",
    "white_wine[\"type\"] = \"white\"\n",
    "red_wine[\"type\"] = \"red\"\n",
    "data_pdf = pd.concat([white_wine, red_wine], axis=0)\n",
    "\n",
    "# Clean columns\n",
    "data_pdf.columns = data_pdf.columns.str.replace(\" \", \"_\")"
   ]
  },
  {
   "cell_type": "code",
   "execution_count": 0,
   "metadata": {
    "application/vnd.databricks.v1+cell": {
     "cellMetadata": {},
     "inputWidgets": {},
     "nuid": "9228f2c6-cf98-4087-b7e3-719b3ec302ef",
     "showTitle": false,
     "title": ""
    }
   },
   "outputs": [],
   "source": [
    "data_df = spark.createDataFrame(data_pdf)\n",
    "baseline_df, primary_df = data_df.randomSplit(weights=[0.25, 0.75], seed=42)"
   ]
  },
  {
   "cell_type": "code",
   "execution_count": 0,
   "metadata": {
    "application/vnd.databricks.v1+cell": {
     "cellMetadata": {},
     "inputWidgets": {},
     "nuid": "f720062a-c20a-4336-b47e-7de6a7ded52d",
     "showTitle": false,
     "title": ""
    }
   },
   "outputs": [],
   "source": [
    "baseline_df.display()"
   ]
  },
  {
   "cell_type": "code",
   "execution_count": 0,
   "metadata": {
    "application/vnd.databricks.v1+cell": {
     "cellMetadata": {},
     "inputWidgets": {},
     "nuid": "bf897ec7-33bd-456e-9cf5-8597c7fadefb",
     "showTitle": false,
     "title": ""
    }
   },
   "outputs": [],
   "source": [
    "(baseline_df\n",
    " .write\n",
    " .format(\"delta\")\n",
    " .mode(\"overwrite\")\n",
    " .option(\"overwriteSchema\",True)\n",
    " .saveAsTable(f\"{BASELINE_TABLE}\")\n",
    ")"
   ]
  },
  {
   "cell_type": "code",
   "execution_count": 0,
   "metadata": {
    "application/vnd.databricks.v1+cell": {
     "cellMetadata": {},
     "inputWidgets": {},
     "nuid": "5afd6584-e41a-486d-b1c8-a24023dc6bc3",
     "showTitle": false,
     "title": ""
    }
   },
   "outputs": [],
   "source": [
    "(primary_df\n",
    " .write\n",
    " .format(\"delta\")\n",
    " .mode(\"overwrite\")\n",
    " .option(\"overwriteSchema\",True)\n",
    " .saveAsTable(f\"{TABLE_NAME}\")\n",
    ")"
   ]
  },
  {
   "cell_type": "markdown",
   "metadata": {
    "application/vnd.databricks.v1+cell": {
     "cellMetadata": {},
     "inputWidgets": {},
     "nuid": "1271625a-c6d4-4694-88e5-c6aba1844dd2",
     "showTitle": false,
     "title": ""
    }
   },
   "source": [
    "## 2. Create monitor\n",
    "This notebook illustrates `Snapshot` type analysis. For other types of analysis, see the Lakehouse Monitoring documentation ([AWS](https://docs.databricks.com/lakehouse-monitoring/index.html)|[Azure](https://learn.microsoft.com/azure/databricks/lakehouse-monitoring/index)).\n",
    "\n",
    "**Make sure to drop any columns that should be excluded from a business or use-case perspective.**"
   ]
  },
  {
   "cell_type": "code",
   "execution_count": 0,
   "metadata": {
    "application/vnd.databricks.v1+cell": {
     "cellMetadata": {},
     "inputWidgets": {},
     "nuid": "20d084e1-30eb-4848-906c-70584c63bb60",
     "showTitle": false,
     "title": ""
    }
   },
   "outputs": [],
   "source": [
    "import databricks.lakehouse_monitoring as lm"
   ]
  },
  {
   "cell_type": "code",
   "execution_count": 0,
   "metadata": {
    "application/vnd.databricks.v1+cell": {
     "cellMetadata": {},
     "inputWidgets": {},
     "nuid": "9a4120e8-ff64-4dc7-b28d-08a6404ded83",
     "showTitle": false,
     "title": ""
    }
   },
   "outputs": [],
   "source": [
    "# Expressions to slice data with\n",
    "SLICING_EXPRS = [\"type='red'\"]"
   ]
  },
  {
   "cell_type": "markdown",
   "metadata": {
    "application/vnd.databricks.v1+cell": {
     "cellMetadata": {},
     "inputWidgets": {},
     "nuid": "f85693b5-5537-4b21-a513-fa029878dd82",
     "showTitle": false,
     "title": ""
    }
   },
   "source": [
    "#### You can access documentation for commands as shown in the following cell"
   ]
  },
  {
   "cell_type": "code",
   "execution_count": 0,
   "metadata": {
    "application/vnd.databricks.v1+cell": {
     "cellMetadata": {},
     "inputWidgets": {},
     "nuid": "9b053ded-d29d-4896-b703-8ec3ff34e14f",
     "showTitle": false,
     "title": ""
    }
   },
   "outputs": [],
   "source": [
    "help(lm.create_monitor)"
   ]
  },
  {
   "cell_type": "markdown",
   "metadata": {
    "application/vnd.databricks.v1+cell": {
     "cellMetadata": {},
     "inputWidgets": {},
     "nuid": "b239c776-3d34-40be-955c-247477caadfe",
     "showTitle": false,
     "title": ""
    }
   },
   "source": [
    "#### Create the monitor"
   ]
  },
  {
   "cell_type": "code",
   "execution_count": 0,
   "metadata": {
    "application/vnd.databricks.v1+cell": {
     "cellMetadata": {},
     "inputWidgets": {},
     "nuid": "51687c35-38ac-46e1-9e47-3078cb411d19",
     "showTitle": false,
     "title": ""
    }
   },
   "outputs": [],
   "source": [
    "print(f\"Creating monitor for {TABLE_NAME}\")\n",
    "\n",
    "info = lm.create_monitor(\n",
    "  profile_type=lm.Snapshot(),\n",
    "  table_name=TABLE_NAME,\n",
    "  slicing_exprs=SLICING_EXPRS,\n",
    "  baseline_table_name=BASELINE_TABLE,\n",
    "  output_schema_name=f\"{CATALOG}.{SCHEMA}\"\n",
    ")"
   ]
  },
  {
   "cell_type": "code",
   "execution_count": 0,
   "metadata": {
    "application/vnd.databricks.v1+cell": {
     "cellMetadata": {},
     "inputWidgets": {},
     "nuid": "478cf0be-3dfc-47e5-8846-edf6c6be2752",
     "showTitle": false,
     "title": ""
    }
   },
   "outputs": [],
   "source": [
    "import time\n",
    "\n",
    "\n",
    "# Wait for monitor to be created\n",
    "while info.status == lm.MonitorStatus.PENDING:\n",
    "  info = lm.get_monitor(table_name=TABLE_NAME)\n",
    "  time.sleep(10)\n",
    "\n",
    "assert(info.status == lm.MonitorStatus.ACTIVE)"
   ]
  },
  {
   "cell_type": "code",
   "execution_count": 0,
   "metadata": {
    "application/vnd.databricks.v1+cell": {
     "cellMetadata": {},
     "inputWidgets": {},
     "nuid": "e372268d-3aae-4116-a6c8-420feab8b9bd",
     "showTitle": false,
     "title": ""
    }
   },
   "outputs": [],
   "source": [
    "# A metric refresh will automatically be triggered on creation\n",
    "refreshes = lm.list_refreshes(table_name=TABLE_NAME)\n",
    "assert(len(refreshes) > 0)\n",
    "\n",
    "run_info = refreshes[0]\n",
    "while run_info.state in (lm.RefreshState.PENDING, lm.RefreshState.RUNNING):\n",
    "  run_info = lm.get_refresh(table_name=TABLE_NAME, refresh_id=run_info.refresh_id)\n",
    "  time.sleep(30)\n",
    "\n",
    "assert(run_info.state == lm.RefreshState.SUCCESS)"
   ]
  },
  {
   "cell_type": "markdown",
   "metadata": {
    "application/vnd.databricks.v1+cell": {
     "cellMetadata": {},
     "inputWidgets": {},
     "nuid": "23f416d3-1eb4-483e-ac49-7c42166334c3",
     "showTitle": false,
     "title": ""
    }
   },
   "source": [
    "Click the highlighted Dashboard link in the cell output to open the dashboard. You can also navigate to the dashboard from the Catalog Explorer UI."
   ]
  },
  {
   "cell_type": "code",
   "execution_count": 0,
   "metadata": {
    "application/vnd.databricks.v1+cell": {
     "cellMetadata": {},
     "inputWidgets": {},
     "nuid": "193480e3-319c-415f-b524-ca5473e0a655",
     "showTitle": false,
     "title": ""
    }
   },
   "outputs": [],
   "source": [
    "lm.get_monitor(table_name=TABLE_NAME)"
   ]
  },
  {
   "cell_type": "markdown",
   "metadata": {
    "application/vnd.databricks.v1+cell": {
     "cellMetadata": {},
     "inputWidgets": {},
     "nuid": "92d57d29-65aa-4424-9ae6-0fcb1c2dfc9e",
     "showTitle": false,
     "title": ""
    }
   },
   "source": [
    "## 3. Inspect the metric tables"
   ]
  },
  {
   "cell_type": "markdown",
   "metadata": {
    "application/vnd.databricks.v1+cell": {
     "cellMetadata": {},
     "inputWidgets": {},
     "nuid": "078d4822-8325-48e7-a063-c683bf691c4a",
     "showTitle": false,
     "title": ""
    }
   },
   "source": [
    "By default, the metric tables are saved in the default database.  \n",
    "\n",
    "The `create_monitor` call created two new tables: the profile metrics table and the drift metrics table. \n",
    "\n",
    "These two tables record the outputs of analysis jobs. The tables use the same name as the primary table to be monitored, with the suffixes `_profile_metrics` and `_drift_metrics`."
   ]
  },
  {
   "cell_type": "markdown",
   "metadata": {
    "application/vnd.databricks.v1+cell": {
     "cellMetadata": {},
     "inputWidgets": {},
     "nuid": "cc2fc02c-aa27-41d6-bd3b-2b4e6b5de475",
     "showTitle": false,
     "title": ""
    }
   },
   "source": [
    "### Orientation to the profile metrics table\n",
    "\n",
    "The profile metrics table has the suffix `_profile_metrics`. For a list of statistics that are shown in the table, see the documentation ([AWS](https://docs.databricks.com/lakehouse-monitoring/monitor-output.html#profile-metrics-table)|[Azure](https://learn.microsoft.com/azure/databricks/lakehouse-monitoring/monitor-output#profile-metrics-table)). \n",
    "\n",
    "- For every column in the primary table, the analysis table shows summary statistics for the baseline table and for the primary table. The column `log_type` shows `INPUT` to indicate statistics for the primary table, and `BASELINE` to indicate statistics for the baseline table. The column from the primary table is identified in the column `column_name`.\n",
    "- For snapshot type analysis, the `granularity` column is always `exact`, because the snapshot table does not include a timestamp. `exact` indicates that the statistics shown in the table correspond to the exact time that the analysis was run.\n",
    "- The table shows statistics for each value of each slice key, and for the table as whole. Statistics for the table as a whole are indicated by `slice_key` = `slice_value` = `null`.\n",
    "- The `window` column shows the time that the analysis was run for primary table statistics. For baseline table statistics, the `window` column shows `null`.  \n",
    "- Some statistics are calculated based on the table as a whole, not on a single column. In the column `column_name`, these statistics are identified by `:table`."
   ]
  },
  {
   "cell_type": "code",
   "execution_count": 0,
   "metadata": {
    "application/vnd.databricks.v1+cell": {
     "cellMetadata": {},
     "inputWidgets": {},
     "nuid": "d37e2a3e-e9fa-4b03-ad08-5c331afe8d9d",
     "showTitle": false,
     "title": ""
    }
   },
   "outputs": [],
   "source": [
    "# Display profile metrics table\n",
    "profile_table = f\"{TABLE_NAME}_profile_metrics\"\n",
    "display(spark.sql(f\"SELECT * FROM {profile_table}\"))"
   ]
  },
  {
   "cell_type": "markdown",
   "metadata": {
    "application/vnd.databricks.v1+cell": {
     "cellMetadata": {},
     "inputWidgets": {},
     "nuid": "c92de5cd-bc7d-427c-9cfe-8f5dc79d8194",
     "showTitle": false,
     "title": ""
    }
   },
   "source": [
    "### Orientation to the drift metrics table\n",
    "\n",
    "The drift metrics table has the suffix `_drift_metrics`. For a list of statistics that are shown in the table, see the documentation ([AWS](https://docs.databricks.com/lakehouse-monitoring/monitor-output.html#drift-metrics-table)|[Azure](https://learn.microsoft.com/azure/databricks/lakehouse-monitoring/monitor-output#drift-metrics-table)). \n",
    "\n",
    "- For every column in the primary table, the drift table shows a set of metrics that compare the current values in the table to the values at the time of the previous analysis run and to the baseline table. The column `drift_type` shows `BASELINE` to indicate drift relative to the baseline table, and `CONSECUTIVE` to indicate drift relative to the previous analysis. As in the profile table, the column from the primary table is identified in the column `column_name`.\n",
    "- For snapshot type analysis, the `granularity` column is always `exact`, because the snapshot table does not include a timestamp. `exact` indicates that the statistics shown in the table correspond to the exact time that the analysis was run.\n",
    "- The table shows statistics for each value of each slice key, and for the table as whole. Statistics for the table as a whole are indicated by `slice_key` = `slice_value` = `null`.\n",
    "- The `window` column shows the time that the analysis was run. The `window_cmp` column shows the time that the current analysis is being compared to. If the comparison is to the baseline table, `window_cmp` is `null`.  \n",
    "- Some statistics are calculated based on the table as a whole, not on a single column. In the column `column_name`, these statistics are identified by `:table`."
   ]
  },
  {
   "cell_type": "code",
   "execution_count": 0,
   "metadata": {
    "application/vnd.databricks.v1+cell": {
     "cellMetadata": {},
     "inputWidgets": {},
     "nuid": "5255a526-1b7e-4d57-a3b3-3025dd54d88b",
     "showTitle": false,
     "title": ""
    }
   },
   "outputs": [],
   "source": [
    "# Display the drift metrics table\n",
    "drift_table = f\"{TABLE_NAME}_drift_metrics\"\n",
    "display(spark.sql(f\"SELECT * FROM {drift_table}\"))"
   ]
  },
  {
   "cell_type": "markdown",
   "metadata": {
    "application/vnd.databricks.v1+cell": {
     "cellMetadata": {},
     "inputWidgets": {},
     "nuid": "1a754f0a-87ae-4dc9-bbef-9a1e45e1f210",
     "showTitle": false,
     "title": ""
    }
   },
   "source": [
    "## 4. Refresh metrics after changes to the table data or schema"
   ]
  },
  {
   "cell_type": "markdown",
   "metadata": {
    "application/vnd.databricks.v1+cell": {
     "cellMetadata": {},
     "inputWidgets": {},
     "nuid": "fe9364df-a045-4554-a6ca-73263bc1471f",
     "showTitle": false,
     "title": ""
    }
   },
   "source": [
    "### 4.1 Change some values in the table\n",
    "The command in the following cell changes some values in the table. For any row where the value of the `alcohol` column is less than 9.0, the value is replaced by `null`."
   ]
  },
  {
   "cell_type": "code",
   "execution_count": 0,
   "metadata": {
    "application/vnd.databricks.v1+cell": {
     "cellMetadata": {},
     "inputWidgets": {},
     "nuid": "34416962-7020-4fb7-ae85-5f1eef4f4583",
     "showTitle": false,
     "title": ""
    }
   },
   "outputs": [],
   "source": [
    "spark.sql(f\"UPDATE {TABLE_NAME} SET alcohol = null WHERE alcohol < 9\")"
   ]
  },
  {
   "cell_type": "markdown",
   "metadata": {
    "application/vnd.databricks.v1+cell": {
     "cellMetadata": {},
     "inputWidgets": {},
     "nuid": "f0fcc61f-4db5-410a-bf11-d80bd0686c61",
     "showTitle": false,
     "title": ""
    }
   },
   "source": [
    "### Refresh metrics"
   ]
  },
  {
   "cell_type": "code",
   "execution_count": 0,
   "metadata": {
    "application/vnd.databricks.v1+cell": {
     "cellMetadata": {},
     "inputWidgets": {},
     "nuid": "fa2978fc-57e6-43b6-b5c4-831e9a22860f",
     "showTitle": false,
     "title": ""
    }
   },
   "outputs": [],
   "source": [
    "run_info = lm.run_refresh(table_name=TABLE_NAME)\n",
    "while run_info.state in (lm.RefreshState.PENDING, lm.RefreshState.RUNNING):\n",
    "  run_info = lm.get_refresh(table_name=TABLE_NAME, refresh_id = run_info.refresh_id)\n",
    "  time.sleep(30)\n",
    "\n",
    "assert(run_info.state == lm.RefreshState.SUCCESS)"
   ]
  },
  {
   "cell_type": "markdown",
   "metadata": {
    "application/vnd.databricks.v1+cell": {
     "cellMetadata": {},
     "inputWidgets": {},
     "nuid": "5ac20319-ce91-4125-84aa-a86ac8f08ad4",
     "showTitle": false,
     "title": ""
    }
   },
   "source": [
    "Open the monitoring dashboard to notice the changes."
   ]
  },
  {
   "cell_type": "code",
   "execution_count": 0,
   "metadata": {
    "application/vnd.databricks.v1+cell": {
     "cellMetadata": {},
     "inputWidgets": {},
     "nuid": "ed3b4e59-de21-48ee-8408-b5a8edbdff81",
     "showTitle": false,
     "title": ""
    }
   },
   "outputs": [],
   "source": [
    "lm.get_monitor(table_name=TABLE_NAME)"
   ]
  },
  {
   "cell_type": "markdown",
   "metadata": {
    "application/vnd.databricks.v1+cell": {
     "cellMetadata": {},
     "inputWidgets": {},
     "nuid": "605197b7-dcfc-44a9-842c-cccacbab55e5",
     "showTitle": false,
     "title": ""
    }
   },
   "source": [
    "## 5. [Optional] Delete the monitor\n",
    "Uncomment the following line of code to clean up the monitor. Only a single monitor can exist for a table."
   ]
  },
  {
   "cell_type": "code",
   "execution_count": 0,
   "metadata": {
    "application/vnd.databricks.v1+cell": {
     "cellMetadata": {},
     "inputWidgets": {},
     "nuid": "7b1cbc87-bba6-456a-90df-23b01efe4aa3",
     "showTitle": false,
     "title": ""
    }
   },
   "outputs": [],
   "source": [
    "# lm.delete_monitor(table_name=TABLE_NAME)"
   ]
  }
 ],
 "metadata": {
  "application/vnd.databricks.v1+notebook": {
   "dashboards": [],
   "language": "python",
   "notebookMetadata": {
    "pythonIndentUnit": 2
   },
   "notebookName": "snapshot-monitor",
   "widgets": {}
  }
 },
 "nbformat": 4,
 "nbformat_minor": 0
}
